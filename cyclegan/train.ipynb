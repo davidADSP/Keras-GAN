{
 "cells": [
  {
   "cell_type": "code",
   "execution_count": 1,
   "metadata": {},
   "outputs": [
    {
     "name": "stderr",
     "output_type": "stream",
     "text": [
      "Using TensorFlow backend.\n"
     ]
    }
   ],
   "source": [
    "from cyclegan import CycleGAN\n",
    "import matplotlib.pyplot as plt\n",
    "import pickle"
   ]
  },
  {
   "cell_type": "code",
   "execution_count": null,
   "metadata": {},
   "outputs": [],
   "source": [
    "gan = CycleGAN()"
   ]
  },
  {
   "cell_type": "code",
   "execution_count": null,
   "metadata": {},
   "outputs": [],
   "source": [
    "# gan = pickle.load(open('./saved_model/vangogh2photo/obj.pkl', 'rb'))"
   ]
  },
  {
   "cell_type": "code",
   "execution_count": null,
   "metadata": {},
   "outputs": [],
   "source": [
    "# gan.combined.load_weights('./saved_model/vangogh2photo/model-20.h5')\n",
    "# gan.g_AB.load_weights('./saved_model/vangogh2photo/g_AB-20.h5')\n",
    "# gan.g_BA.load_weights('./saved_model/vangogh2photo/g_BA-20.h5')\n",
    "# gan.d_A.load_weights('./saved_model/vangogh2photo/d_A-20.h5')\n",
    "# gan.d_B.load_weights('./saved_model/vangogh2photo/d_B-20.h5')\n"
   ]
  },
  {
   "cell_type": "code",
   "execution_count": null,
   "metadata": {
    "scrolled": false
   },
   "outputs": [
    {
     "name": "stderr",
     "output_type": "stream",
     "text": [
      "/Users/davidfoster/.virtualenvs/gdl/lib/python3.6/site-packages/keras/engine/training.py:490: UserWarning: Discrepancy between trainable weights and collected trainable weights, did you set `model.trainable` without calling `model.compile` after ?\n",
      "  'Discrepancy between trainable weights and collected trainable'\n"
     ]
    },
    {
     "name": "stdout",
     "output_type": "stream",
     "text": [
      "[Epoch 0/200] [Batch 0/400] [D loss: 2.716906, acc:  27%] [G loss: 190.094803, adv: 174.489777, recon: 1.049242, id: 1.022524] time: 0:01:27.113575 \n",
      "[Epoch 0/200] [Batch 1/400] [D loss: 20.995148, acc:   8%] [G loss: 18.792019, adv: 1.165147, recon: 1.171000, id: 1.183373] time: 0:02:52.803176 \n",
      "[Epoch 0/200] [Batch 2/400] [D loss: 4.753957, acc:  28%] [G loss: 18.825882, adv: 2.849459, recon: 1.059481, id: 1.076323] time: 0:03:31.501533 \n",
      "[Epoch 0/200] [Batch 3/400] [D loss: 0.688249, acc:  44%] [G loss: 19.354599, adv: 3.272728, recon: 1.057818, id: 1.100738] time: 0:04:08.531017 \n",
      "[Epoch 0/200] [Batch 4/400] [D loss: 0.688847, acc:  37%] [G loss: 20.786247, adv: 3.370850, recon: 1.166369, id: 1.150342] time: 0:04:46.189371 \n",
      "[Epoch 0/200] [Batch 5/400] [D loss: 0.552140, acc:  34%] [G loss: 15.663346, adv: 1.065513, recon: 0.980843, id: 0.957881] time: 0:05:24.039645 \n",
      "[Epoch 0/200] [Batch 6/400] [D loss: 0.740784, acc:  60%] [G loss: 24.828642, adv: 3.408895, recon: 1.446296, id: 1.391357] time: 0:06:02.470553 \n",
      "[Epoch 0/200] [Batch 7/400] [D loss: 0.283944, acc:  52%] [G loss: 14.934958, adv: 1.830458, recon: 0.856934, id: 0.907032] time: 0:06:41.397771 \n",
      "[Epoch 0/200] [Batch 8/400] [D loss: 0.191636, acc:  63%] [G loss: 16.348846, adv: 1.792572, recon: 0.977129, id: 0.956997] time: 0:07:20.345444 \n",
      "[Epoch 0/200] [Batch 9/400] [D loss: 0.125247, acc:  68%] [G loss: 21.206388, adv: 2.021344, recon: 1.265680, id: 1.305648] time: 0:07:58.918288 \n",
      "[Epoch 0/200] [Batch 10/400] [D loss: 0.129380, acc:  69%] [G loss: 13.292510, adv: 1.948823, recon: 0.759290, id: 0.750158] time: 0:08:37.149150 \n",
      "[Epoch 0/200] [Batch 11/400] [D loss: 0.180158, acc:  57%] [G loss: 13.484155, adv: 2.665188, recon: 0.726627, id: 0.710540] time: 0:09:16.883550 \n"
     ]
    }
   ],
   "source": [
    "gan.train(epochs=200, batch_size=1, sample_interval=1)"
   ]
  },
  {
   "cell_type": "code",
   "execution_count": null,
   "metadata": {},
   "outputs": [],
   "source": [
    "gan.g_losses"
   ]
  },
  {
   "cell_type": "code",
   "execution_count": null,
   "metadata": {},
   "outputs": [],
   "source": [
    "gan.d_losses"
   ]
  },
  {
   "cell_type": "code",
   "execution_count": null,
   "metadata": {},
   "outputs": [],
   "source": [
    "fig = plt.figure(figsize=(20,10))\n",
    "\n",
    "plt.plot([x[1] for x in gan.g_losses], color='green', linewidth=0.1) #DISCRIM LOSS\n",
    "# plt.plot([x[2] for x in gan.g_losses], color='orange', linewidth=0.1)\n",
    "plt.plot([x[3] for x in gan.g_losses], color='blue', linewidth=0.1) #CYCLE LOSS\n",
    "# plt.plot([x[4] for x in gan.g_losses], color='orange', linewidth=0.25)\n",
    "plt.plot([x[5] for x in gan.g_losses], color='red', linewidth=0.25) #ID LOSS\n",
    "# plt.plot([x[6] for x in gan.g_losses], color='orange', linewidth=0.25)\n",
    "\n",
    "plt.plot([x[0] for x in gan.g_losses], color='black', linewidth=0.25)\n",
    "\n",
    "# plt.plot([x[0] for x in gan.d_losses], color='black', linewidth=0.25)\n",
    "\n",
    "\n",
    "\n",
    "plt.xlabel('batch', fontsize=18)\n",
    "plt.ylabel('loss', fontsize=16)\n",
    "\n",
    "plt.ylim(0, 5)\n",
    "\n",
    "plt.show()"
   ]
  },
  {
   "cell_type": "code",
   "execution_count": null,
   "metadata": {},
   "outputs": [],
   "source": [
    "plt.plot([x[1] for x in gan.d_losses], color='green', linewidth=0.25)\n"
   ]
  },
  {
   "cell_type": "code",
   "execution_count": null,
   "metadata": {},
   "outputs": [],
   "source": []
  },
  {
   "cell_type": "code",
   "execution_count": null,
   "metadata": {},
   "outputs": [],
   "source": [
    "import os\n",
    "import numpy as np\n",
    "\n",
    "def sample_images(self, batch_i):\n",
    "    os.makedirs('images/%s' % self.dataset_name, exist_ok=True)\n",
    "    r, c = 2, 4\n",
    "\n",
    "    # Demo (for GIF)\n",
    "    imgs_A = self.data_loader.load_img('datasets/apple2orange/testA/n07740461_1541.jpg')\n",
    "    imgs_B = self.data_loader.load_img('datasets/apple2orange/testB/n07749192_4241.jpg')\n",
    "\n",
    "    # Translate images to the other domain\n",
    "    fake_B = self.g_AB.predict(imgs_A)\n",
    "    fake_A = self.g_BA.predict(imgs_B)\n",
    "    # Translate back to original domain\n",
    "    reconstr_A = self.g_BA.predict(fake_B)\n",
    "    reconstr_B = self.g_AB.predict(fake_A)\n",
    "\n",
    "    # ID the images\n",
    "    id_A = self.g_BA.predict(imgs_A)\n",
    "    id_B = self.g_AB.predict(imgs_B)\n",
    "\n",
    "    gen_imgs = np.concatenate([imgs_A, fake_B, reconstr_A, id_A, imgs_B, fake_A, reconstr_B, id_B])\n",
    "\n",
    "    # Rescale images 0 - 1\n",
    "    gen_imgs = 0.5 * gen_imgs + 0.5\n",
    "\n",
    "    titles = ['Original', 'Translated', 'Reconstructed', 'ID']\n",
    "    fig, axs = plt.subplots(r, c)\n",
    "    cnt = 0\n",
    "    for i in range(r):\n",
    "        for j in range(c):\n",
    "            axs[i,j].imshow(gen_imgs[cnt])\n",
    "            axs[i, j].set_title(titles[j])\n",
    "            axs[i,j].axis('off')\n",
    "            cnt += 1\n",
    "    fig.savefig(\"images/%s/%d_%d.png\" % (self.dataset_name, self.epoch, batch_i))\n",
    "    plt.close()"
   ]
  },
  {
   "cell_type": "code",
   "execution_count": null,
   "metadata": {},
   "outputs": [],
   "source": [
    "sample_images(gan, 999)"
   ]
  },
  {
   "cell_type": "code",
   "execution_count": null,
   "metadata": {},
   "outputs": [],
   "source": []
  }
 ],
 "metadata": {
  "kernelspec": {
   "display_name": "gdl",
   "language": "python",
   "name": "gdl"
  }
 },
 "nbformat": 4,
 "nbformat_minor": 2
}
