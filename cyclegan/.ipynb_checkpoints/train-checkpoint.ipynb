{
 "cells": [
  {
   "cell_type": "code",
   "execution_count": 1,
   "metadata": {},
   "outputs": [
    {
     "name": "stderr",
     "output_type": "stream",
     "text": [
      "Using TensorFlow backend.\n"
     ]
    }
   ],
   "source": [
    "from cyclegan import CycleGAN\n",
    "import matplotlib.pyplot as plt"
   ]
  },
  {
   "cell_type": "code",
   "execution_count": 2,
   "metadata": {},
   "outputs": [],
   "source": [
    "gan = CycleGAN()"
   ]
  },
  {
   "cell_type": "code",
   "execution_count": null,
   "metadata": {
    "scrolled": false
   },
   "outputs": [
    {
     "name": "stdout",
     "output_type": "stream",
     "text": [
      "[Epoch 0/200] [Batch 0/995] [D loss: 0.314819, acc:  33%] [G loss: 3.450256, adv: 0.745430, recon: 0.270483, id: 2.089611] time: 0:00:01.316497 \n",
      "[Epoch 0/200] [Batch 1/995] [D loss: 0.236011, acc:  48%] [G loss: 2.654041, adv: 0.919464, recon: 0.173458, id: 2.452000] time: 0:00:03.700440 \n",
      "[Epoch 0/200] [Batch 2/995] [D loss: 0.360231, acc:  35%] [G loss: 4.605743, adv: 0.815524, recon: 0.379022, id: 1.342548] time: 0:00:05.032598 \n",
      "[Epoch 0/200] [Batch 3/995] [D loss: 0.379623, acc:  17%] [G loss: 3.484231, adv: 0.620658, recon: 0.286357, id: 1.774878] time: 0:00:06.271708 \n",
      "[Epoch 0/200] [Batch 4/995] [D loss: 0.283509, acc:  41%] [G loss: 3.828872, adv: 0.820445, recon: 0.300843, id: 1.270004] time: 0:00:07.573489 \n",
      "[Epoch 0/200] [Batch 5/995] [D loss: 0.320104, acc:  19%] [G loss: 3.277825, adv: 0.764044, recon: 0.251378, id: 1.649051] time: 0:00:08.910465 \n"
     ]
    }
   ],
   "source": [
    "gan.train(epochs=1, batch_size=1, sample_interval=5)"
   ]
  },
  {
   "cell_type": "code",
   "execution_count": null,
   "metadata": {},
   "outputs": [],
   "source": [
    "gan.g_losses"
   ]
  },
  {
   "cell_type": "code",
   "execution_count": null,
   "metadata": {},
   "outputs": [],
   "source": [
    "gan.d_losses"
   ]
  },
  {
   "cell_type": "code",
   "execution_count": null,
   "metadata": {},
   "outputs": [],
   "source": [
    "fig = plt.figure(figsize=(20,10))\n",
    "\n",
    "plt.plot([x[1] for x in gan.g_losses], color='green', linewidth=0.1) #DISCRIM LOSS\n",
    "# plt.plot([x[2] for x in gan.g_losses], color='orange', linewidth=0.1)\n",
    "plt.plot([x[3] for x in gan.g_losses], color='blue', linewidth=0.1) #CYCLE LOSS\n",
    "# plt.plot([x[4] for x in gan.g_losses], color='orange', linewidth=0.25)\n",
    "plt.plot([x[5] for x in gan.g_losses], color='red', linewidth=0.25) #ID LOSS\n",
    "# plt.plot([x[6] for x in gan.g_losses], color='orange', linewidth=0.25)\n",
    "\n",
    "plt.plot([x[0] for x in gan.g_losses], color='black', linewidth=0.25)\n",
    "\n",
    "# plt.plot([x[0] for x in gan.d_losses], color='black', linewidth=0.25)\n",
    "\n",
    "\n",
    "\n",
    "plt.xlabel('batch', fontsize=18)\n",
    "plt.ylabel('loss', fontsize=16)\n",
    "\n",
    "plt.ylim(0, 5)\n",
    "\n",
    "plt.show()"
   ]
  },
  {
   "cell_type": "code",
   "execution_count": null,
   "metadata": {},
   "outputs": [],
   "source": [
    "plt.plot([x[1] for x in gan.d_losses], color='green', linewidth=0.25)\n"
   ]
  },
  {
   "cell_type": "code",
   "execution_count": null,
   "metadata": {},
   "outputs": [],
   "source": []
  },
  {
   "cell_type": "code",
   "execution_count": null,
   "metadata": {},
   "outputs": [],
   "source": [
    "import os\n",
    "import numpy as np\n",
    "\n",
    "def sample_images(self, batch_i):\n",
    "    os.makedirs('images/%s' % self.dataset_name, exist_ok=True)\n",
    "    r, c = 2, 4\n",
    "\n",
    "    # Demo (for GIF)\n",
    "    imgs_A = self.data_loader.load_img('datasets/apple2orange/testA/n07740461_1541.jpg')\n",
    "    imgs_B = self.data_loader.load_img('datasets/apple2orange/testB/n07749192_4241.jpg')\n",
    "\n",
    "    # Translate images to the other domain\n",
    "    fake_B = self.g_AB.predict(imgs_A)\n",
    "    fake_A = self.g_BA.predict(imgs_B)\n",
    "    # Translate back to original domain\n",
    "    reconstr_A = self.g_BA.predict(fake_B)\n",
    "    reconstr_B = self.g_AB.predict(fake_A)\n",
    "\n",
    "    # ID the images\n",
    "    id_A = self.g_BA.predict(imgs_A)\n",
    "    id_B = self.g_AB.predict(imgs_B)\n",
    "\n",
    "    gen_imgs = np.concatenate([imgs_A, fake_B, reconstr_A, id_A, imgs_B, fake_A, reconstr_B, id_B])\n",
    "\n",
    "    # Rescale images 0 - 1\n",
    "    gen_imgs = 0.5 * gen_imgs + 0.5\n",
    "\n",
    "    titles = ['Original', 'Translated', 'Reconstructed', 'ID']\n",
    "    fig, axs = plt.subplots(r, c)\n",
    "    cnt = 0\n",
    "    for i in range(r):\n",
    "        for j in range(c):\n",
    "            axs[i,j].imshow(gen_imgs[cnt])\n",
    "            axs[i, j].set_title(titles[j])\n",
    "            axs[i,j].axis('off')\n",
    "            cnt += 1\n",
    "    fig.savefig(\"images/%s/%d_%d.png\" % (self.dataset_name, self.epoch, batch_i))\n",
    "    plt.close()"
   ]
  },
  {
   "cell_type": "code",
   "execution_count": null,
   "metadata": {},
   "outputs": [],
   "source": [
    "sample_images(gan, 999)"
   ]
  },
  {
   "cell_type": "code",
   "execution_count": null,
   "metadata": {},
   "outputs": [],
   "source": []
  }
 ],
 "metadata": {
  "kernelspec": {
   "display_name": "gdl",
   "language": "python",
   "name": "gdl"
  },
  "language_info": {
   "codemirror_mode": {
    "name": "ipython",
    "version": 3
   },
   "file_extension": ".py",
   "mimetype": "text/x-python",
   "name": "python",
   "nbconvert_exporter": "python",
   "pygments_lexer": "ipython3",
   "version": "3.6.5"
  }
 },
 "nbformat": 4,
 "nbformat_minor": 2
}
